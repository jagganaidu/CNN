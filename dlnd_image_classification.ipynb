{
 "cells": [
  {
   "cell_type": "markdown",
   "metadata": {
    "collapsed": true,
    "deletable": true,
    "editable": true
   },
   "source": [
    "# Image Classification\n",
    "In this project, you'll classify images from the [CIFAR-10 dataset](https://www.cs.toronto.edu/~kriz/cifar.html).  The dataset consists of airplanes, dogs, cats, and other objects. You'll preprocess the images, then train a convolutional neural network on all the samples. The images need to be normalized and the labels need to be one-hot encoded.  You'll get to apply what you learned and build a convolutional, max pooling, dropout, and fully connected layers.  At the end, you'll get to see your neural network's predictions on the sample images.\n",
    "## Get the Data\n",
    "Run the following cell to download the [CIFAR-10 dataset for python](https://www.cs.toronto.edu/~kriz/cifar-10-python.tar.gz)."
   ]
  },
  {
   "cell_type": "code",
   "execution_count": 1,
   "metadata": {
    "collapsed": false,
    "deletable": true,
    "editable": true
   },
   "outputs": [
    {
     "name": "stdout",
     "output_type": "stream",
     "text": [
      "All files found!\n"
     ]
    }
   ],
   "source": [
    "\"\"\"\n",
    "DON'T MODIFY ANYTHING IN THIS CELL THAT IS BELOW THIS LINE\n",
    "\"\"\"\n",
    "from urllib.request import urlretrieve\n",
    "from os.path import isfile, isdir\n",
    "from tqdm import tqdm\n",
    "import problem_unittests as tests\n",
    "import tarfile\n",
    "\n",
    "cifar10_dataset_folder_path = 'cifar-10-batches-py'\n",
    "\n",
    "# Use Floyd's cifar-10 dataset if present\n",
    "floyd_cifar10_location = '/cifar/cifar-10-python.tar.gz'\n",
    "if isfile(floyd_cifar10_location):\n",
    "    tar_gz_path = floyd_cifar10_location\n",
    "else:\n",
    "    tar_gz_path = 'cifar-10-python.tar.gz'\n",
    "\n",
    "class DLProgress(tqdm):\n",
    "    last_block = 0\n",
    "\n",
    "    def hook(self, block_num=1, block_size=1, total_size=None):\n",
    "        self.total = total_size\n",
    "        self.update((block_num - self.last_block) * block_size)\n",
    "        self.last_block = block_num\n",
    "\n",
    "if not isfile(tar_gz_path):\n",
    "    with DLProgress(unit='B', unit_scale=True, miniters=1, desc='CIFAR-10 Dataset') as pbar:\n",
    "        urlretrieve(\n",
    "            'https://www.cs.toronto.edu/~kriz/cifar-10-python.tar.gz',\n",
    "            tar_gz_path,\n",
    "            pbar.hook)\n",
    "\n",
    "if not isdir(cifar10_dataset_folder_path):\n",
    "    with tarfile.open(tar_gz_path) as tar:\n",
    "        tar.extractall()\n",
    "        tar.close()\n",
    "\n",
    "\n",
    "tests.test_folder_path(cifar10_dataset_folder_path)"
   ]
  },
  {
   "cell_type": "markdown",
   "metadata": {
    "deletable": true,
    "editable": true
   },
   "source": [
    "## Explore the Data\n",
    "The dataset is broken into batches to prevent your machine from running out of memory.  The CIFAR-10 dataset consists of 5 batches, named `data_batch_1`, `data_batch_2`, etc.. Each batch contains the labels and images that are one of the following:\n",
    "* airplane\n",
    "* automobile\n",
    "* bird\n",
    "* cat\n",
    "* deer\n",
    "* dog\n",
    "* frog\n",
    "* horse\n",
    "* ship\n",
    "* truck\n",
    "\n",
    "Understanding a dataset is part of making predictions on the data.  Play around with the code cell below by changing the `batch_id` and `sample_id`. The `batch_id` is the id for a batch (1-5). The `sample_id` is the id for a image and label pair in the batch.\n",
    "\n",
    "Ask yourself \"What are all possible labels?\", \"What is the range of values for the image data?\", \"Are the labels in order or random?\".  Answers to questions like these will help you preprocess the data and end up with better predictions."
   ]
  },
  {
   "cell_type": "code",
   "execution_count": 2,
   "metadata": {
    "collapsed": false,
    "deletable": true,
    "editable": true
   },
   "outputs": [
    {
     "name": "stdout",
     "output_type": "stream",
     "text": [
      "\n",
      "Stats of batch 1:\n",
      "Samples: 10000\n",
      "Label Counts: {0: 1005, 1: 974, 2: 1032, 3: 1016, 4: 999, 5: 937, 6: 1030, 7: 1001, 8: 1025, 9: 981}\n",
      "First 20 Labels: [6, 9, 9, 4, 1, 1, 2, 7, 8, 3, 4, 7, 7, 2, 9, 9, 9, 3, 2, 6]\n",
      "\n",
      "Example of Image 9:\n",
      "Image - Min Value: 11 Max Value: 218\n",
      "Image - Shape: (32, 32, 3)\n",
      "Label - Label Id: 3 Name: cat\n"
     ]
    },
    {
     "data": {
      "image/png": "[encoded data removed]",
      "text/plain": [
       "<matplotlib.figure.Figure at 0x7f9d841548d0>"
      ]
     },
     "metadata": {
      "image/png": {
       "height": 250,
       "width": 253
      }
     },
     "output_type": "display_data"
    }
   ],
   "source": [
    "%matplotlib inline\n",
    "%config InlineBackend.figure_format = 'retina'\n",
    "\n",
    "import helper\n",
    "import numpy as np\n",
    "\n",
    "# Explore the dataset\n",
    "batch_id = 1\n",
    "sample_id = 9\n",
    "helper.display_stats(cifar10_dataset_folder_path, batch_id, sample_id)"
   ]
  },
  {
   "cell_type": "markdown",
   "metadata": {
    "deletable": true,
    "editable": true
   },
   "source": [
    "## Implement Preprocess Functions\n",
    "### Normalize\n",
    "In the cell below, implement the `normalize` function to take in image data, `x`, and return it as a normalized Numpy array. The values should be in the range of 0 to 1, inclusive.  The return object should be the same shape as `x`."
   ]
  },
  {
   "cell_type": "code",
   "execution_count": 3,
   "metadata": {
    "collapsed": false,
    "deletable": true,
    "editable": true
   },
   "outputs": [
    {
     "name": "stdout",
     "output_type": "stream",
     "text": [
      "Tests Passed\n"
     ]
    }
   ],
   "source": [
    "def normalize(x):\n",
    "    \"\"\"\n",
    "    Normalize a list of sample image data in the range of 0 to 1\n",
    "    : x: List of image data.  The image shape is (32, 32, 3)\n",
    "    : return: Numpy array of normalize data\n",
    "    \"\"\"\n",
    "    # TODO: Implement Function\n",
    "    return (x/np.max(x))\n",
    "\n",
    "\n",
    "\"\"\"\n",
    "DON'T MODIFY ANYTHING IN THIS CELL THAT IS BELOW THIS LINE\n",
    "\"\"\"\n",
    "tests.test_normalize(normalize)"
   ]
  },
  {
   "cell_type": "markdown",
   "metadata": {
    "deletable": true,
    "editable": true
   },
   "source": [
    "### One-hot encode\n",
    "Just like the previous code cell, you'll be implementing a function for preprocessing.  This time, you'll implement the `one_hot_encode` function. The input, `x`, are a list of labels.  Implement the function to return the list of labels as One-Hot encoded Numpy array.  The possible values for labels are 0 to 9. The one-hot encoding function should return the same encoding for each value between each call to `one_hot_encode`.  Make sure to save the map of encodings outside the function.\n",
    "\n",
    "Hint: Don't reinvent the wheel."
   ]
  },
  {
   "cell_type": "code",
   "execution_count": 5,
   "metadata": {
    "collapsed": false,
    "deletable": true,
    "editable": true
   },
   "outputs": [
    {
     "name": "stdout",
     "output_type": "stream",
     "text": [
      "Tests Passed\n"
     ]
    }
   ],
   "source": [
    "def one_hot_encode(x):\n",
    "    \"\"\"\n",
    "    One hot encode a list of sample labels. Return a one-hot encoded vector for each label.\n",
    "    : x: List of sample Labels\n",
    "    : return: Numpy array of one-hot encoded labels\n",
    "    \"\"\"\n",
    "    # TODO: Implement Function\n",
    "    #labels_one_hot = np.zeros([len(x), 10])\n",
    "    # labels_one_hot[np.arange(len(x)), x] = 1    \n",
    "    return np.eye(10)[x]\n",
    "\n",
    "\n",
    "\"\"\"\n",
    "DON'T MODIFY ANYTHING IN THIS CELL THAT IS BELOW THIS LINE\n",
    "\"\"\"\n",
    "tests.test_one_hot_encode(one_hot_encode)"
   ]
  },
  {
   "cell_type": "markdown",
   "metadata": {
    "deletable": true,
    "editable": true
   },
   "source": [
    "### Randomize Data\n",
    "As you saw from exploring the data above, the order of the samples are randomized.  It doesn't hurt to randomize it again, but you don't need to for this dataset."
   ]
  },
  {
   "cell_type": "markdown",
   "metadata": {
    "deletable": true,
    "editable": true
   },
   "source": [
    "## Preprocess all the data and save it\n",
    "Running the code cell below will preprocess all the CIFAR-10 data and save it to file. The code below also uses 10% of the training data for validation."
   ]
  },
  {
   "cell_type": "code",
   "execution_count": 6,
   "metadata": {
    "collapsed": true,
    "deletable": true,
    "editable": true
   },
   "outputs": [],
   "source": [
    "\"\"\"\n",
    "DON'T MODIFY ANYTHING IN THIS CELL\n",
    "\"\"\"\n",
    "# Preprocess Training, Validation, and Testing Data\n",
    "helper.preprocess_and_save_data(cifar10_dataset_folder_path, normalize, one_hot_encode)"
   ]
  },
  {
   "cell_type": "markdown",
   "metadata": {
    "deletable": true,
    "editable": true
   },
   "source": [
    "# Check Point\n",
    "This is your first checkpoint.  If you ever decide to come back to this notebook or have to restart the notebook, you can start from here.  The preprocessed data has been saved to disk."
   ]
  },
  {
   "cell_type": "code",
   "execution_count": 7,
   "metadata": {
    "collapsed": true,
    "deletable": true,
    "editable": true
   },
   "outputs": [],
   "source": [
    "\"\"\"\n",
    "DON'T MODIFY ANYTHING IN THIS CELL\n",
    "\"\"\"\n",
    "import pickle\n",
    "import problem_unittests as tests\n",
    "import helper\n",
    "\n",
    "# Load the Preprocessed Validation data\n",
    "valid_features, valid_labels = pickle.load(open('preprocess_validation.p', mode='rb'))"
   ]
  },
  {
   "cell_type": "markdown",
   "metadata": {
    "deletable": true,
    "editable": true
   },
   "source": [
    "## Build the network\n",
    "For the neural network, you'll build each layer into a function.  Most of the code you've seen has been outside of functions. To test your code more thoroughly, we require that you put each layer in a function.  This allows us to give you better feedback and test for simple mistakes using our unittests before you submit your project.\n",
    "\n",
    ">**Note:** If you're finding it hard to dedicate enough time for this course each week, we've provided a small shortcut to this part of the project. In the next couple of problems, you'll have the option to use classes from the [TensorFlow Layers](https://www.tensorflow.org/api_docs/python/tf/layers) or [TensorFlow Layers (contrib)](https://www.tensorflow.org/api_guides/python/contrib.layers) packages to build each layer, except the layers you build in the \"Convolutional and Max Pooling Layer\" section.  TF Layers is similar to Keras's and TFLearn's abstraction to layers, so it's easy to pickup.\n",
    "\n",
    ">However, if you would like to get the most out of this course, try to solve all the problems _without_ using anything from the TF Layers packages. You **can** still use classes from other packages that happen to have the same name as ones you find in TF Layers! For example, instead of using the TF Layers version of the `conv2d` class, [tf.layers.conv2d](https://www.tensorflow.org/api_docs/python/tf/layers/conv2d), you would want to use the TF Neural Network version of `conv2d`, [tf.nn.conv2d](https://www.tensorflow.org/api_docs/python/tf/nn/conv2d). \n",
    "\n",
    "Let's begin!\n",
    "\n",
    "### Input\n",
    "The neural network needs to read the image data, one-hot encoded labels, and dropout keep probability. Implement the following functions\n",
    "* Implement `neural_net_image_input`\n",
    " * Return a [TF Placeholder](https://www.tensorflow.org/api_docs/python/tf/placeholder)\n",
    " * Set the shape using `image_shape` with batch size set to `None`.\n",
    " * Name the TensorFlow placeholder \"x\" using the TensorFlow `name` parameter in the [TF Placeholder](https://www.tensorflow.org/api_docs/python/tf/placeholder).\n",
    "* Implement `neural_net_label_input`\n",
    " * Return a [TF Placeholder](https://www.tensorflow.org/api_docs/python/tf/placeholder)\n",
    " * Set the shape using `n_classes` with batch size set to `None`.\n",
    " * Name the TensorFlow placeholder \"y\" using the TensorFlow `name` parameter in the [TF Placeholder](https://www.tensorflow.org/api_docs/python/tf/placeholder).\n",
    "* Implement `neural_net_keep_prob_input`\n",
    " * Return a [TF Placeholder](https://www.tensorflow.org/api_docs/python/tf/placeholder) for dropout keep probability.\n",
    " * Name the TensorFlow placeholder \"keep_prob\" using the TensorFlow `name` parameter in the [TF Placeholder](https://www.tensorflow.org/api_docs/python/tf/placeholder).\n",
    "\n",
    "These names will be used at the end of the project to load your saved model.\n",
    "\n",
    "Note: `None` for shapes in TensorFlow allow for a dynamic size."
   ]
  },
  {
   "cell_type": "code",
   "execution_count": 8,
   "metadata": {
    "collapsed": false,
    "deletable": true,
    "editable": true
   },
   "outputs": [
    {
     "name": "stdout",
     "output_type": "stream",
     "text": [
      "Image Input Tests Passed.\n",
      "Label Input Tests Passed.\n",
      "Keep Prob Tests Passed.\n"
     ]
    }
   ],
   "source": [
    "import tensorflow as tf\n",
    "\n",
    "def neural_net_image_input(image_shape):\n",
    "    \"\"\"\n",
    "    Return a Tensor for a batch of image input\n",
    "    : image_shape: Shape of the images\n",
    "    : return: Tensor for image input.\n",
    "    \"\"\"\n",
    "    # TODO: Implement Function\n",
    "    x = tf.placeholder(dtype = tf.float32, shape = (None, image_shape[0], image_shape[1], image_shape[2]), name = \"x\")\n",
    "    return x\n",
    "\n",
    "\n",
    "def neural_net_label_input(n_classes):\n",
    "    \"\"\"\n",
    "    Return a Tensor for a batch of label input\n",
    "    : n_classes: Number of classes\n",
    "    : return: Tensor for label input.\n",
    "    \"\"\"\n",
    "    # TODO: Implement Function\n",
    "    y = tf.placeholder(dtype = tf.float32, shape = [None, n_classes], name = \"y\")\n",
    "    return y\n",
    "\n",
    "\n",
    "def neural_net_keep_prob_input():\n",
    "    \"\"\"\n",
    "    Return a Tensor for keep probability\n",
    "    : return: Tensor for keep probability.\n",
    "    \"\"\"\n",
    "    # TODO: Implement Function\n",
    "    return tf.placeholder(dtype = tf.float32, shape = None, name = \"keep_prob\")\n",
    "\n",
    "\"\"\"\n",
    "DON'T MODIFY ANYTHING IN THIS CELL THAT IS BELOW THIS LINE\n",
    "\"\"\"\n",
    "tf.reset_default_graph()\n",
    "tests.test_nn_image_inputs(neural_net_image_input)\n",
    "tests.test_nn_label_inputs(neural_net_label_input)\n",
    "tests.test_nn_keep_prob_inputs(neural_net_keep_prob_input)"
   ]
  },
  {
   "cell_type": "markdown",
   "metadata": {
    "deletable": true,
    "editable": true
   },
   "source": [
    "### Convolution and Max Pooling Layer\n",
    "Convolution layers have a lot of success with images. For this code cell, you should implement the function `conv2d_maxpool` to apply convolution then max pooling:\n",
    "* Create the weight and bias using `conv_ksize`, `conv_num_outputs` and the shape of `x_tensor`.\n",
    "* Apply a convolution to `x_tensor` using weight and `conv_strides`.\n",
    " * We recommend you use same padding, but you're welcome to use any padding.\n",
    "* Add bias\n",
    "* Add a nonlinear activation to the convolution.\n",
    "* Apply Max Pooling using `pool_ksize` and `pool_strides`.\n",
    " * We recommend you use same padding, but you're welcome to use any padding.\n",
    "\n",
    "**Note:** You **can't** use [TensorFlow Layers](https://www.tensorflow.org/api_docs/python/tf/layers) or [TensorFlow Layers (contrib)](https://www.tensorflow.org/api_guides/python/contrib.layers) for **this** layer, but you can still use TensorFlow's [Neural Network](https://www.tensorflow.org/api_docs/python/tf/nn) package. You may still use the shortcut option for all the **other** layers."
   ]
  },
  {
   "cell_type": "code",
   "execution_count": 78,
   "metadata": {
    "collapsed": false,
    "deletable": true,
    "editable": true
   },
   "outputs": [
    {
     "name": "stdout",
     "output_type": "stream",
     "text": [
      "Tests Passed\n"
     ]
    }
   ],
   "source": [
    "def conv2d_maxpool(x_tensor, conv_num_outputs, conv_ksize, conv_strides, pool_ksize, pool_strides):\n",
    "    \"\"\"\n",
    "    Apply convolution then max pooling to x_tensor\n",
    "    :param x_tensor: TensorFlow Tensor\n",
    "    :param conv_num_outputs: Number of outputs for the convolutional layer\n",
    "    :param conv_ksize: kernal size 2-D Tuple for the convolutional layer\n",
    "    :param conv_strides: Stride 2-D Tuple for convolution\n",
    "    :param pool_ksize: kernal size 2-D Tuple for pool\n",
    "    :param pool_strides: Stride 2-D Tuple for pool\n",
    "    : return: A tensor that represents convolution and max pooling of x_tensor\n",
    "    \"\"\"\n",
    "    # TODO: Implement Function\n",
    "    x_tensor_depth = x_tensor.get_shape().as_list()[3]\n",
    "    weights = tf.Variable(tf.truncated_normal([conv_ksize[0], conv_ksize[1], x_tensor_depth, conv_num_outputs], stddev = 0.01), dtype = tf.float32)\n",
    "    biases = tf.Variable(tf.zeros([conv_num_outputs]))\n",
    "    conv_layer = tf.nn.conv2d(x_tensor, weights, strides = [1, conv_strides[0], conv_strides[1], 1], padding = 'SAME')\n",
    "    conv_layer = tf.nn.bias_add(conv_layer, biases)\n",
    "    max_pool_layer = tf.nn.max_pool(conv_layer, ksize = [1, pool_ksize[0], pool_ksize[1], 1],\n",
    "                                    strides = [1, pool_strides[0], pool_strides[1], 1], padding = 'SAME')                                                                                                        \n",
    "    relu_layer = tf.nn.relu(max_pool_layer)\n",
    "    return relu_layer\n",
    "\n",
    "\n",
    "\n",
    "\"\"\"\n",
    "DON'T MODIFY ANYTHING IN THIS CELL THAT IS BELOW THIS LINE\n",
    "\"\"\"\n",
    "tests.test_con_pool(conv2d_maxpool)"
   ]
  },
  {
   "cell_type": "markdown",
   "metadata": {
    "deletable": true,
    "editable": true
   },
   "source": [
    "### Flatten Layer\n",
    "Implement the `flatten` function to change the dimension of `x_tensor` from a 4-D tensor to a 2-D tensor.  The output should be the shape (*Batch Size*, *Flattened Image Size*). Shortcut option: you can use classes from the [TensorFlow Layers](https://www.tensorflow.org/api_docs/python/tf/layers) or [TensorFlow Layers (contrib)](https://www.tensorflow.org/api_guides/python/contrib.layers) packages for this layer. For more of a challenge, only use other TensorFlow packages."
   ]
  },
  {
   "cell_type": "code",
   "execution_count": 18,
   "metadata": {
    "collapsed": false,
    "deletable": true,
    "editable": true
   },
   "outputs": [
    {
     "name": "stdout",
     "output_type": "stream",
     "text": [
      "Tests Passed\n"
     ]
    }
   ],
   "source": [
    "def flatten(x_tensor):\n",
    "    \"\"\"\n",
    "    Flatten x_tensor to (Batch Size, Flattened Image Size)\n",
    "    : x_tensor: A tensor of size (Batch Size, ...), where ... are the image dimensions.\n",
    "    : return: A tensor of size (Batch Size, Flattened Image Size).\n",
    "    \"\"\"\n",
    "    # TODO: Implement Function\n",
    "    H = x_tensor.get_shape().as_list()[1]\n",
    "    W = x_tensor.get_shape().as_list()[2]\n",
    "    D = x_tensor.get_shape().as_list()[3]\n",
    "    x_tensor_flattened = tf.reshape(x_tensor, [-1, H * W * D])\n",
    "    return x_tensor_flattened\n",
    "\n",
    "\n",
    "\"\"\"\n",
    "DON'T MODIFY ANYTHING IN THIS CELL THAT IS BELOW THIS LINE\n",
    "\"\"\"\n",
    "tests.test_flatten(flatten)"
   ]
  },
  {
   "cell_type": "markdown",
   "metadata": {
    "deletable": true,
    "editable": true
   },
   "source": [
    "### Fully-Connected Layer\n",
    "Implement the `fully_conn` function to apply a fully connected layer to `x_tensor` with the shape (*Batch Size*, *num_outputs*). Shortcut option: you can use classes from the [TensorFlow Layers](https://www.tensorflow.org/api_docs/python/tf/layers) or [TensorFlow Layers (contrib)](https://www.tensorflow.org/api_guides/python/contrib.layers) packages for this layer. For more of a challenge, only use other TensorFlow packages."
   ]
  },
  {
   "cell_type": "code",
   "execution_count": 72,
   "metadata": {
    "collapsed": false,
    "deletable": true,
    "editable": true
   },
   "outputs": [
    {
     "name": "stdout",
     "output_type": "stream",
     "text": [
      "Tests Passed\n"
     ]
    }
   ],
   "source": [
    "def fully_conn(x_tensor, num_outputs):\n",
    "    \"\"\"\n",
    "    Apply a fully connected layer to x_tensor using weight and bias\n",
    "    : x_tensor: A 2-D tensor where the first dimension is batch size.\n",
    "    : num_outputs: The number of output that the new tensor should be.\n",
    "    : return: A 2-D tensor where the second dimension is num_outputs.\n",
    "    \"\"\"\n",
    "    # TODO: Implement Function\n",
    "    x_tensor_shape_1 = x_tensor.get_shape().as_list()[1]\n",
    "    weights = tf.Variable(tf.truncated_normal([x_tensor_shape_1, num_outputs], stddev = 0.01), dtype = tf.float32)\n",
    "    biases = tf.Variable(tf.truncated_normal([num_outputs], stddev = 0.01), dtype = tf.float32)\n",
    "    fully_conn_2D_tensor = tf.add(tf.matmul(x_tensor, weights), biases)\n",
    "    fully_conn_2D_tensor = tf.nn.relu(fully_conn_2D_tensor)\n",
    "    return fully_conn_2D_tensor\n",
    "\n",
    "\n",
    "\"\"\"\n",
    "DON'T MODIFY ANYTHING IN THIS CELL THAT IS BELOW THIS LINE\n",
    "\"\"\"\n",
    "tests.test_fully_conn(fully_conn)"
   ]
  },
  {
   "cell_type": "markdown",
   "metadata": {
    "deletable": true,
    "editable": true
   },
   "source": [
    "### Output Layer\n",
    "Implement the `output` function to apply a fully connected layer to `x_tensor` with the shape (*Batch Size*, *num_outputs*). Shortcut option: you can use classes from the [TensorFlow Layers](https://www.tensorflow.org/api_docs/python/tf/layers) or [TensorFlow Layers (contrib)](https://www.tensorflow.org/api_guides/python/contrib.layers) packages for this layer. For more of a challenge, only use other TensorFlow packages.\n",
    "\n",
    "**Note:** Activation, softmax, or cross entropy should **not** be applied to this."
   ]
  },
  {
   "cell_type": "code",
   "execution_count": 71,
   "metadata": {
    "collapsed": false,
    "deletable": true,
    "editable": true
   },
   "outputs": [
    {
     "name": "stdout",
     "output_type": "stream",
     "text": [
      "Tests Passed\n"
     ]
    }
   ],
   "source": [
    "def output(x_tensor, num_outputs):\n",
    "    \"\"\"\n",
    "    Apply a output layer to x_tensor using weight and bias\n",
    "    : x_tensor: A 2-D tensor where the first dimension is batch size.\n",
    "    : num_outputs: The number of output that the new tensor should be.\n",
    "    : return: A 2-D tensor where the second dimension is num_outputs.\n",
    "    \"\"\"\n",
    "    # TODO: Implement Function\n",
    "    x_tensor_shape_1 = x_tensor.get_shape().as_list()[1]\n",
    "    weights = tf.Variable(tf.truncated_normal([x_tensor_shape_1, num_outputs], stddev = 0.01), dtype = tf.float32)\n",
    "    biases = tf.Variable(tf.truncated_normal([num_outputs], stddev = 0.01), dtype = tf.float32)\n",
    "    output = tf.add(tf.matmul(x_tensor, weights), biases)\n",
    "    return output\n",
    "\n",
    "\n",
    "\"\"\"\n",
    "DON'T MODIFY ANYTHING IN THIS CELL THAT IS BELOW THIS LINE\n",
    "\"\"\"\n",
    "tests.test_output(output)"
   ]
  },
  {
   "cell_type": "markdown",
   "metadata": {
    "deletable": true,
    "editable": true
   },
   "source": [
    "### Create Convolutional Model\n",
    "Implement the function `conv_net` to create a convolutional neural network model. The function takes in a batch of images, `x`, and outputs logits.  Use the layers you created above to create this model:\n",
    "\n",
    "* Apply 1, 2, or 3 Convolution and Max Pool layers\n",
    "* Apply a Flatten Layer\n",
    "* Apply 1, 2, or 3 Fully Connected Layers\n",
    "* Apply an Output Layer\n",
    "* Return the output\n",
    "* Apply [TensorFlow's Dropout](https://www.tensorflow.org/api_docs/python/tf/nn/dropout) to one or more layers in the model using `keep_prob`. "
   ]
  },
  {
   "cell_type": "code",
   "execution_count": 79,
   "metadata": {
    "collapsed": false,
    "deletable": true,
    "editable": true
   },
   "outputs": [
    {
     "name": "stdout",
     "output_type": "stream",
     "text": [
      "Neural Network Built!\n"
     ]
    }
   ],
   "source": [
    "def conv_net(x, keep_prob):\n",
    "    \"\"\"\n",
    "    Create a convolutional neural network model\n",
    "    : x: Placeholder tensor that holds image data.\n",
    "    : keep_prob: Placeholder tensor that hold dropout keep probability.\n",
    "    : return: Tensor that represents logits\n",
    "    \"\"\"\n",
    "    # TODO: Apply 1, 2, or 3 Convolution and Max Pool layers\n",
    "    #    Play around with different number of outputs, kernel size and stride\n",
    "    # Function Definition from Above:\n",
    "    #    conv2d_maxpool(x_tensor, conv_num_outputs, conv_ksize, conv_strides, pool_ksize, pool_strides)\n",
    "    conv_num_outputs = 32\n",
    "    conv_ksize = [3, 3]\n",
    "    conv_strides = [1,1]\n",
    "    pool_ksize = [2, 2]\n",
    "    pool_strides = [2, 2]\n",
    "    conv_max_1 = conv2d_maxpool(x, conv_num_outputs, conv_ksize, conv_strides, pool_ksize, pool_strides)\n",
    "       \n",
    "    conv_num_outputs = 64\n",
    "    conv_ksize = [3, 3]\n",
    "    conv_strides = [1,1]\n",
    "    pool_ksize = [2, 2]\n",
    "    pool_strides = [2, 2]\n",
    "    conv_max_2 = conv2d_maxpool(conv_max_1, conv_num_outputs, conv_ksize, conv_strides, pool_ksize, pool_strides)\n",
    "  \n",
    "    conv_num_outputs = 128\n",
    "    conv_ksize = [3, 3]\n",
    "    conv_strides = [1,1]\n",
    "    pool_ksize = [2, 2]\n",
    "    pool_strides = [2, 2]\n",
    "    conv_max_3 = conv2d_maxpool(conv_max_2, conv_num_outputs, conv_ksize, conv_strides, pool_ksize, pool_strides)   \n",
    "        \n",
    "\n",
    "    # TODO: Apply a Flatten Layer\n",
    "    # Function Definition from Above:\n",
    "    #   flatten(x_tensor)\n",
    "    flat_conv_max = flatten(conv_max_3)\n",
    "        \n",
    "    # TODO: Apply 1, 2, or 3 Fully Connected Layers\n",
    "    #    Play around with different number of outputs\n",
    "    # Function Definition from Above:\n",
    "    #   fully_conn(x_tensor, num_outputs)\n",
    "    num_outputs = 1024\n",
    "    fc_1 = fully_conn(flat_conv_max, num_outputs)\n",
    "    fc_1 = tf.nn.dropout(fc_1, keep_prob) \n",
    "    \n",
    "    # TODO: Apply an Output Layer\n",
    "    #    Set this to the number of classes\n",
    "    # Function Definition from Above:\n",
    "    #   output(x_tensor, num_outputs)\n",
    "    num_classes = 10\n",
    "    logits = output(fc_1, num_classes)\n",
    "    \n",
    "    # TODO: return output\n",
    "    return logits\n",
    "\n",
    "\n",
    "\n",
    "\"\"\"\n",
    "DON'T MODIFY ANYTHING IN THIS CELL THAT IS BELOW THIS LINE\n",
    "\"\"\"\n",
    "\n",
    "##############################\n",
    "## Build the Neural Network ##\n",
    "##############################\n",
    "\n",
    "# Remove previous weights, bias, inputs, etc..\n",
    "tf.reset_default_graph()\n",
    "\n",
    "# Inputs\n",
    "x = neural_net_image_input((32, 32, 3))\n",
    "y = neural_net_label_input(10)\n",
    "keep_prob = neural_net_keep_prob_input()\n",
    "\n",
    "# Model\n",
    "logits = conv_net(x, keep_prob)\n",
    "\n",
    "# Name logits Tensor, so that is can be loaded from disk after training\n",
    "logits = tf.identity(logits, name='logits')\n",
    "\n",
    "# Loss and Optimizer\n",
    "cost = tf.reduce_mean(tf.nn.softmax_cross_entropy_with_logits(logits=logits, labels=y))\n",
    "optimizer = tf.train.AdamOptimizer().minimize(cost)\n",
    "\n",
    "# Accuracy\n",
    "correct_pred = tf.equal(tf.argmax(logits, 1), tf.argmax(y, 1))\n",
    "accuracy = tf.reduce_mean(tf.cast(correct_pred, tf.float32), name='accuracy')\n",
    "\n",
    "tests.test_conv_net(conv_net)"
   ]
  },
  {
   "cell_type": "markdown",
   "metadata": {
    "deletable": true,
    "editable": true
   },
   "source": [
    "## Train the Neural Network\n",
    "### Single Optimization\n",
    "Implement the function `train_neural_network` to do a single optimization.  The optimization should use `optimizer` to optimize in `session` with a `feed_dict` of the following:\n",
    "* `x` for image input\n",
    "* `y` for labels\n",
    "* `keep_prob` for keep probability for dropout\n",
    "\n",
    "This function will be called for each batch, so `tf.global_variables_initializer()` has already been called.\n",
    "\n",
    "Note: Nothing needs to be returned. This function is only optimizing the neural network."
   ]
  },
  {
   "cell_type": "code",
   "execution_count": 80,
   "metadata": {
    "collapsed": false,
    "deletable": true,
    "editable": true
   },
   "outputs": [
    {
     "name": "stdout",
     "output_type": "stream",
     "text": [
      "Tests Passed\n"
     ]
    }
   ],
   "source": [
    "def train_neural_network(session, optimizer, keep_probability, feature_batch, label_batch):\n",
    "    \"\"\"\n",
    "    Optimize the session on a batch of images and labels\n",
    "    : session: Current TensorFlow session\n",
    "    : optimizer: TensorFlow optimizer function\n",
    "    : keep_probability: keep probability\n",
    "    : feature_batch: Batch of Numpy image data\n",
    "    : label_batch: Batch of Numpy label data\n",
    "    \"\"\"\n",
    "    # TODO: Implement Function\n",
    "    session.run(optimizer, feed_dict = {x: feature_batch, y: label_batch, keep_prob: keep_probability})\n",
    "\n",
    "\n",
    "\"\"\"\n",
    "DON'T MODIFY ANYTHING IN THIS CELL THAT IS BELOW THIS LINE\n",
    "\"\"\"\n",
    "tests.test_train_nn(train_neural_network)"
   ]
  },
  {
   "cell_type": "markdown",
   "metadata": {
    "deletable": true,
    "editable": true
   },
   "source": [
    "### Show Stats\n",
    "Implement the function `print_stats` to print loss and validation accuracy.  Use the global variables `valid_features` and `valid_labels` to calculate validation accuracy.  Use a keep probability of `1.0` to calculate the loss and validation accuracy."
   ]
  },
  {
   "cell_type": "code",
   "execution_count": 64,
   "metadata": {
    "collapsed": false,
    "deletable": true,
    "editable": true
   },
   "outputs": [],
   "source": [
    "def print_stats(session, feature_batch, label_batch, cost, accuracy):\n",
    "    \"\"\"\n",
    "    Print information about loss and validation accuracy\n",
    "    : session: Current TensorFlow session\n",
    "    : feature_batch: Batch of Numpy image data\n",
    "    : label_batch: Batch of Numpy label data\n",
    "    : cost: TensorFlow cost function\n",
    "    : accuracy: TensorFlow accuracy function\n",
    "    \"\"\"\n",
    "    # TODO: Implement Function\n",
    "    loss = session.run(cost, feed_dict = {x: feature_batch, y: label_batch, keep_prob: 1.})\n",
    "    print (\"Loss is {0: 4.6f}\".format(loss))\n",
    "    validation_accuracy = session.run(accuracy, feed_dict = {x: valid_features, y: valid_labels, keep_prob: 1.})\n",
    "    print(\"Validation Accuracy is {0: 1.2f}%\".format(validation_accuracy *100))   "
   ]
  },
  {
   "cell_type": "markdown",
   "metadata": {
    "deletable": true,
    "editable": true
   },
   "source": [
    "### Hyperparameters\n",
    "Tune the following parameters:\n",
    "* Set `epochs` to the number of iterations until the network stops learning or start overfitting\n",
    "* Set `batch_size` to the highest number that your machine has memory for.  Most people set them to common sizes of memory:\n",
    " * 64\n",
    " * 128\n",
    " * 256\n",
    " * ...\n",
    "* Set `keep_probability` to the probability of keeping a node using dropout"
   ]
  },
  {
   "cell_type": "code",
   "execution_count": 81,
   "metadata": {
    "collapsed": true,
    "deletable": true,
    "editable": true
   },
   "outputs": [],
   "source": [
    "# TODO: Tune Parameters\n",
    "epochs = 30\n",
    "batch_size = 512\n",
    "keep_probability = 0.2"
   ]
  },
  {
   "cell_type": "markdown",
   "metadata": {
    "deletable": true,
    "editable": true
   },
   "source": [
    "### Train on a Single CIFAR-10 Batch\n",
    "Instead of training the neural network on all the CIFAR-10 batches of data, let's use a single batch. This should save time while you iterate on the model to get a better accuracy.  Once the final validation accuracy is 50% or greater, run the model on all the data in the next section."
   ]
  },
  {
   "cell_type": "code",
   "execution_count": 82,
   "metadata": {
    "collapsed": false,
    "deletable": true,
    "editable": true
   },
   "outputs": [
    {
     "name": "stdout",
     "output_type": "stream",
     "text": [
      "Checking the Training on a Single Batch...\n",
      "Epoch  1, CIFAR-10 Batch 1:  Loss is  2.281040\n",
      "Validation Accuracy is  12.18%\n",
      "Epoch  2, CIFAR-10 Batch 1:  Loss is  2.091153\n",
      "Validation Accuracy is  23.72%\n",
      "Epoch  3, CIFAR-10 Batch 1:  Loss is  2.055458\n",
      "Validation Accuracy is  24.80%\n",
      "Epoch  4, CIFAR-10 Batch 1:  Loss is  2.034242\n",
      "Validation Accuracy is  26.64%\n",
      "Epoch  5, CIFAR-10 Batch 1:  Loss is  2.009126\n",
      "Validation Accuracy is  27.72%\n",
      "Epoch  6, CIFAR-10 Batch 1:  Loss is  1.980575\n",
      "Validation Accuracy is  29.24%\n",
      "Epoch  7, CIFAR-10 Batch 1:  Loss is  1.942188\n",
      "Validation Accuracy is  31.34%\n",
      "Epoch  8, CIFAR-10 Batch 1:  Loss is  1.897169\n",
      "Validation Accuracy is  33.44%\n",
      "Epoch  9, CIFAR-10 Batch 1:  Loss is  1.852110\n",
      "Validation Accuracy is  34.86%\n",
      "Epoch 10, CIFAR-10 Batch 1:  Loss is  1.817344\n",
      "Validation Accuracy is  35.58%\n",
      "Epoch 11, CIFAR-10 Batch 1:  Loss is  1.783394\n",
      "Validation Accuracy is  36.56%\n",
      "Epoch 12, CIFAR-10 Batch 1:  Loss is  1.744789\n",
      "Validation Accuracy is  38.00%\n",
      "Epoch 13, CIFAR-10 Batch 1:  Loss is  1.709512\n",
      "Validation Accuracy is  39.10%\n",
      "Epoch 14, CIFAR-10 Batch 1:  Loss is  1.695661\n",
      "Validation Accuracy is  39.32%\n",
      "Epoch 15, CIFAR-10 Batch 1:  Loss is  1.682374\n",
      "Validation Accuracy is  39.52%\n",
      "Epoch 16, CIFAR-10 Batch 1:  Loss is  1.632992\n",
      "Validation Accuracy is  42.14%\n",
      "Epoch 17, CIFAR-10 Batch 1:  Loss is  1.606886\n",
      "Validation Accuracy is  42.64%\n",
      "Epoch 18, CIFAR-10 Batch 1:  Loss is  1.577345\n",
      "Validation Accuracy is  43.60%\n",
      "Epoch 19, CIFAR-10 Batch 1:  Loss is  1.559320\n",
      "Validation Accuracy is  44.28%\n",
      "Epoch 20, CIFAR-10 Batch 1:  Loss is  1.542018\n",
      "Validation Accuracy is  44.34%\n",
      "Epoch 21, CIFAR-10 Batch 1:  Loss is  1.519668\n",
      "Validation Accuracy is  45.08%\n",
      "Epoch 22, CIFAR-10 Batch 1:  Loss is  1.512267\n",
      "Validation Accuracy is  45.58%\n",
      "Epoch 23, CIFAR-10 Batch 1:  Loss is  1.489611\n",
      "Validation Accuracy is  46.12%\n",
      "Epoch 24, CIFAR-10 Batch 1:  Loss is  1.472324\n",
      "Validation Accuracy is  45.78%\n",
      "Epoch 25, CIFAR-10 Batch 1:  Loss is  1.447427\n",
      "Validation Accuracy is  46.40%\n",
      "Epoch 26, CIFAR-10 Batch 1:  Loss is  1.441098\n",
      "Validation Accuracy is  46.80%\n",
      "Epoch 27, CIFAR-10 Batch 1:  Loss is  1.410256\n",
      "Validation Accuracy is  47.74%\n",
      "Epoch 28, CIFAR-10 Batch 1:  Loss is  1.394462\n",
      "Validation Accuracy is  48.50%\n",
      "Epoch 29, CIFAR-10 Batch 1:  Loss is  1.376086\n",
      "Validation Accuracy is  48.52%\n",
      "Epoch 30, CIFAR-10 Batch 1:  Loss is  1.365861\n",
      "Validation Accuracy is  48.82%\n"
     ]
    }
   ],
   "source": [
    "\"\"\"\n",
    "DON'T MODIFY ANYTHING IN THIS CELL\n",
    "\"\"\"\n",
    "print('Checking the Training on a Single Batch...')\n",
    "with tf.Session() as sess:\n",
    "    # Initializing the variables\n",
    "    sess.run(tf.global_variables_initializer())\n",
    "    \n",
    "    # Training cycle\n",
    "    for epoch in range(epochs):\n",
    "        batch_i = 1\n",
    "        for batch_features, batch_labels in helper.load_preprocess_training_batch(batch_i, batch_size):\n",
    "            train_neural_network(sess, optimizer, keep_probability, batch_features, batch_labels)\n",
    "        print('Epoch {:>2}, CIFAR-10 Batch {}:  '.format(epoch + 1, batch_i), end='')\n",
    "        print_stats(sess, batch_features, batch_labels, cost, accuracy)               \n",
    "    "
   ]
  },
  {
   "cell_type": "markdown",
   "metadata": {
    "deletable": true,
    "editable": true
   },
   "source": [
    "### Fully Train the Model\n",
    "Now that you got a good accuracy with a single CIFAR-10 batch, try it with all five batches."
   ]
  },
  {
   "cell_type": "code",
   "execution_count": 83,
   "metadata": {
    "collapsed": false,
    "deletable": true,
    "editable": true
   },
   "outputs": [
    {
     "name": "stdout",
     "output_type": "stream",
     "text": [
      "Training...\n",
      "Epoch  1, CIFAR-10 Batch 1:  Loss is  2.252782\n",
      "Validation Accuracy is  15.48%\n",
      "Epoch  1, CIFAR-10 Batch 2:  Loss is  2.118031\n",
      "Validation Accuracy is  24.26%\n",
      "Epoch  1, CIFAR-10 Batch 3:  Loss is  2.001084\n",
      "Validation Accuracy is  26.02%\n",
      "Epoch  1, CIFAR-10 Batch 4:  Loss is  1.927157\n",
      "Validation Accuracy is  28.14%\n",
      "Epoch  1, CIFAR-10 Batch 5:  Loss is  1.947337\n",
      "Validation Accuracy is  29.38%\n",
      "Epoch  2, CIFAR-10 Batch 1:  Loss is  1.931096\n",
      "Validation Accuracy is  31.54%\n",
      "Epoch  2, CIFAR-10 Batch 2:  Loss is  1.782654\n",
      "Validation Accuracy is  33.86%\n",
      "Epoch  2, CIFAR-10 Batch 3:  Loss is  1.614392\n",
      "Validation Accuracy is  37.12%\n",
      "Epoch  2, CIFAR-10 Batch 4:  Loss is  1.603120\n",
      "Validation Accuracy is  38.58%\n",
      "Epoch  2, CIFAR-10 Batch 5:  Loss is  1.699188\n",
      "Validation Accuracy is  40.30%\n",
      "Epoch  3, CIFAR-10 Batch 1:  Loss is  1.680048\n",
      "Validation Accuracy is  40.66%\n",
      "Epoch  3, CIFAR-10 Batch 2:  Loss is  1.602570\n",
      "Validation Accuracy is  43.28%\n",
      "Epoch  3, CIFAR-10 Batch 3:  Loss is  1.409602\n",
      "Validation Accuracy is  44.00%\n",
      "Epoch  3, CIFAR-10 Batch 4:  Loss is  1.464345\n",
      "Validation Accuracy is  44.98%\n",
      "Epoch  3, CIFAR-10 Batch 5:  Loss is  1.543156\n",
      "Validation Accuracy is  44.80%\n",
      "Epoch  4, CIFAR-10 Batch 1:  Loss is  1.570208\n",
      "Validation Accuracy is  45.24%\n",
      "Epoch  4, CIFAR-10 Batch 2:  Loss is  1.503340\n",
      "Validation Accuracy is  46.52%\n",
      "Epoch  4, CIFAR-10 Batch 3:  Loss is  1.314553\n",
      "Validation Accuracy is  46.20%\n",
      "Epoch  4, CIFAR-10 Batch 4:  Loss is  1.366625\n",
      "Validation Accuracy is  46.46%\n",
      "Epoch  4, CIFAR-10 Batch 5:  Loss is  1.440942\n",
      "Validation Accuracy is  46.50%\n",
      "Epoch  5, CIFAR-10 Batch 1:  Loss is  1.520666\n",
      "Validation Accuracy is  46.30%\n",
      "Epoch  5, CIFAR-10 Batch 2:  Loss is  1.435936\n",
      "Validation Accuracy is  48.34%\n",
      "Epoch  5, CIFAR-10 Batch 3:  Loss is  1.256829\n",
      "Validation Accuracy is  48.56%\n",
      "Epoch  5, CIFAR-10 Batch 4:  Loss is  1.291503\n",
      "Validation Accuracy is  49.22%\n",
      "Epoch  5, CIFAR-10 Batch 5:  Loss is  1.378708\n",
      "Validation Accuracy is  47.72%\n",
      "Epoch  6, CIFAR-10 Batch 1:  Loss is  1.464999\n",
      "Validation Accuracy is  48.70%\n",
      "Epoch  6, CIFAR-10 Batch 2:  Loss is  1.359887\n",
      "Validation Accuracy is  50.14%\n",
      "Epoch  6, CIFAR-10 Batch 3:  Loss is  1.217996\n",
      "Validation Accuracy is  49.58%\n",
      "Epoch  6, CIFAR-10 Batch 4:  Loss is  1.238103\n",
      "Validation Accuracy is  51.18%\n",
      "Epoch  6, CIFAR-10 Batch 5:  Loss is  1.300613\n",
      "Validation Accuracy is  50.90%\n",
      "Epoch  7, CIFAR-10 Batch 1:  Loss is  1.424559\n",
      "Validation Accuracy is  48.36%\n",
      "Epoch  7, CIFAR-10 Batch 2:  Loss is  1.305340\n",
      "Validation Accuracy is  50.90%\n",
      "Epoch  7, CIFAR-10 Batch 3:  Loss is  1.172882\n",
      "Validation Accuracy is  51.82%\n",
      "Epoch  7, CIFAR-10 Batch 4:  Loss is  1.194999\n",
      "Validation Accuracy is  52.46%\n",
      "Epoch  7, CIFAR-10 Batch 5:  Loss is  1.282853\n",
      "Validation Accuracy is  50.60%\n",
      "Epoch  8, CIFAR-10 Batch 1:  Loss is  1.331952\n",
      "Validation Accuracy is  51.94%\n",
      "Epoch  8, CIFAR-10 Batch 2:  Loss is  1.286745\n",
      "Validation Accuracy is  51.92%\n",
      "Epoch  8, CIFAR-10 Batch 3:  Loss is  1.135750\n",
      "Validation Accuracy is  53.12%\n",
      "Epoch  8, CIFAR-10 Batch 4:  Loss is  1.133843\n",
      "Validation Accuracy is  53.68%\n",
      "Epoch  8, CIFAR-10 Batch 5:  Loss is  1.217621\n",
      "Validation Accuracy is  53.14%\n",
      "Epoch  9, CIFAR-10 Batch 1:  Loss is  1.294539\n",
      "Validation Accuracy is  53.28%\n",
      "Epoch  9, CIFAR-10 Batch 2:  Loss is  1.220980\n",
      "Validation Accuracy is  54.10%\n",
      "Epoch  9, CIFAR-10 Batch 3:  Loss is  1.092641\n",
      "Validation Accuracy is  54.98%\n",
      "Epoch  9, CIFAR-10 Batch 4:  Loss is  1.128951\n",
      "Validation Accuracy is  54.48%\n",
      "Epoch  9, CIFAR-10 Batch 5:  Loss is  1.191646\n",
      "Validation Accuracy is  53.72%\n",
      "Epoch 10, CIFAR-10 Batch 1:  Loss is  1.262360\n",
      "Validation Accuracy is  53.20%\n",
      "Epoch 10, CIFAR-10 Batch 2:  Loss is  1.185151\n",
      "Validation Accuracy is  54.94%\n",
      "Epoch 10, CIFAR-10 Batch 3:  Loss is  1.071637\n",
      "Validation Accuracy is  55.56%\n",
      "Epoch 10, CIFAR-10 Batch 4:  Loss is  1.108747\n",
      "Validation Accuracy is  54.30%\n",
      "Epoch 10, CIFAR-10 Batch 5:  Loss is  1.147276\n",
      "Validation Accuracy is  54.90%\n",
      "Epoch 11, CIFAR-10 Batch 1:  Loss is  1.200019\n",
      "Validation Accuracy is  55.86%\n",
      "Epoch 11, CIFAR-10 Batch 2:  Loss is  1.173778\n",
      "Validation Accuracy is  55.74%\n",
      "Epoch 11, CIFAR-10 Batch 3:  Loss is  1.039878\n",
      "Validation Accuracy is  56.86%\n",
      "Epoch 11, CIFAR-10 Batch 4:  Loss is  1.028939\n",
      "Validation Accuracy is  57.08%\n",
      "Epoch 11, CIFAR-10 Batch 5:  Loss is  1.100238\n",
      "Validation Accuracy is  57.24%\n",
      "Epoch 12, CIFAR-10 Batch 1:  Loss is  1.171460\n",
      "Validation Accuracy is  56.64%\n",
      "Epoch 12, CIFAR-10 Batch 2:  Loss is  1.140255\n",
      "Validation Accuracy is  56.00%\n",
      "Epoch 12, CIFAR-10 Batch 3:  Loss is  0.993665\n",
      "Validation Accuracy is  58.08%\n",
      "Epoch 12, CIFAR-10 Batch 4:  Loss is  1.007612\n",
      "Validation Accuracy is  56.94%\n",
      "Epoch 12, CIFAR-10 Batch 5:  Loss is  1.078611\n",
      "Validation Accuracy is  58.26%\n",
      "Epoch 13, CIFAR-10 Batch 1:  Loss is  1.152701\n",
      "Validation Accuracy is  57.76%\n",
      "Epoch 13, CIFAR-10 Batch 2:  Loss is  1.123854\n",
      "Validation Accuracy is  57.10%\n",
      "Epoch 13, CIFAR-10 Batch 3:  Loss is  0.985815\n",
      "Validation Accuracy is  58.88%\n",
      "Epoch 13, CIFAR-10 Batch 4:  Loss is  0.944394\n",
      "Validation Accuracy is  59.26%\n",
      "Epoch 13, CIFAR-10 Batch 5:  Loss is  1.055201\n",
      "Validation Accuracy is  58.98%\n",
      "Epoch 14, CIFAR-10 Batch 1:  Loss is  1.111591\n",
      "Validation Accuracy is  59.12%\n",
      "Epoch 14, CIFAR-10 Batch 2:  Loss is  1.103958\n",
      "Validation Accuracy is  56.74%\n",
      "Epoch 14, CIFAR-10 Batch 3:  Loss is  0.964630\n",
      "Validation Accuracy is  59.52%\n",
      "Epoch 14, CIFAR-10 Batch 4:  Loss is  0.906536\n",
      "Validation Accuracy is  61.16%\n",
      "Epoch 14, CIFAR-10 Batch 5:  Loss is  1.012018\n",
      "Validation Accuracy is  60.46%\n",
      "Epoch 15, CIFAR-10 Batch 1:  Loss is  1.067786\n",
      "Validation Accuracy is  60.62%\n",
      "Epoch 15, CIFAR-10 Batch 2:  Loss is  1.055600\n",
      "Validation Accuracy is  58.68%\n",
      "Epoch 15, CIFAR-10 Batch 3:  Loss is  0.919858\n",
      "Validation Accuracy is  60.86%\n",
      "Epoch 15, CIFAR-10 Batch 4:  Loss is  0.864852\n",
      "Validation Accuracy is  61.88%\n",
      "Epoch 15, CIFAR-10 Batch 5:  Loss is  0.995657\n",
      "Validation Accuracy is  61.28%\n",
      "Epoch 16, CIFAR-10 Batch 1:  Loss is  1.022608\n",
      "Validation Accuracy is  61.70%\n",
      "Epoch 16, CIFAR-10 Batch 2:  Loss is  0.999918\n",
      "Validation Accuracy is  59.74%\n",
      "Epoch 16, CIFAR-10 Batch 3:  Loss is  0.890121\n",
      "Validation Accuracy is  61.64%\n",
      "Epoch 16, CIFAR-10 Batch 4:  Loss is  0.824718\n",
      "Validation Accuracy is  62.56%\n",
      "Epoch 16, CIFAR-10 Batch 5:  Loss is  0.955955\n",
      "Validation Accuracy is  62.48%\n",
      "Epoch 17, CIFAR-10 Batch 1:  Loss is  0.990734\n",
      "Validation Accuracy is  62.72%\n",
      "Epoch 17, CIFAR-10 Batch 2:  Loss is  0.960527\n",
      "Validation Accuracy is  61.62%\n",
      "Epoch 17, CIFAR-10 Batch 3:  Loss is  0.872939\n",
      "Validation Accuracy is  61.80%\n",
      "Epoch 17, CIFAR-10 Batch 4:  Loss is  0.795870\n",
      "Validation Accuracy is  63.60%\n",
      "Epoch 17, CIFAR-10 Batch 5:  Loss is  0.935506\n",
      "Validation Accuracy is  63.46%\n",
      "Epoch 18, CIFAR-10 Batch 1:  Loss is  0.971633\n",
      "Validation Accuracy is  63.44%\n",
      "Epoch 18, CIFAR-10 Batch 2:  Loss is  0.912184\n",
      "Validation Accuracy is  63.06%\n",
      "Epoch 18, CIFAR-10 Batch 3:  Loss is  0.834852\n",
      "Validation Accuracy is  62.98%\n",
      "Epoch 18, CIFAR-10 Batch 4:  Loss is  0.775870\n",
      "Validation Accuracy is  64.34%\n",
      "Epoch 18, CIFAR-10 Batch 5:  Loss is  0.917360\n",
      "Validation Accuracy is  63.84%\n",
      "Epoch 19, CIFAR-10 Batch 1:  Loss is  0.951519\n",
      "Validation Accuracy is  64.00%\n",
      "Epoch 19, CIFAR-10 Batch 2:  Loss is  0.876864\n",
      "Validation Accuracy is  64.12%\n",
      "Epoch 19, CIFAR-10 Batch 3:  Loss is  0.785317\n",
      "Validation Accuracy is  64.50%\n",
      "Epoch 19, CIFAR-10 Batch 4:  Loss is  0.736934\n",
      "Validation Accuracy is  65.34%\n",
      "Epoch 19, CIFAR-10 Batch 5:  Loss is  0.881546\n",
      "Validation Accuracy is  64.62%\n",
      "Epoch 20, CIFAR-10 Batch 1:  Loss is  0.894219\n",
      "Validation Accuracy is  65.14%\n",
      "Epoch 20, CIFAR-10 Batch 2:  Loss is  0.856054\n",
      "Validation Accuracy is  64.78%\n",
      "Epoch 20, CIFAR-10 Batch 3:  Loss is  0.754014\n",
      "Validation Accuracy is  65.22%\n",
      "Epoch 20, CIFAR-10 Batch 4:  Loss is  0.697027\n",
      "Validation Accuracy is  65.74%\n",
      "Epoch 20, CIFAR-10 Batch 5:  Loss is  0.856658\n",
      "Validation Accuracy is  64.66%\n",
      "Epoch 21, CIFAR-10 Batch 1:  Loss is  0.872405\n",
      "Validation Accuracy is  65.90%\n",
      "Epoch 21, CIFAR-10 Batch 2:  Loss is  0.832325\n",
      "Validation Accuracy is  64.94%\n",
      "Epoch 21, CIFAR-10 Batch 3:  Loss is  0.728715\n",
      "Validation Accuracy is  65.46%\n",
      "Epoch 21, CIFAR-10 Batch 4:  Loss is  0.682975\n",
      "Validation Accuracy is  66.50%\n",
      "Epoch 21, CIFAR-10 Batch 5:  Loss is  0.842295\n",
      "Validation Accuracy is  65.22%\n",
      "Epoch 22, CIFAR-10 Batch 1:  Loss is  0.850037\n",
      "Validation Accuracy is  66.10%\n",
      "Epoch 22, CIFAR-10 Batch 2:  Loss is  0.836591\n",
      "Validation Accuracy is  64.86%\n",
      "Epoch 22, CIFAR-10 Batch 3:  Loss is  0.707636\n",
      "Validation Accuracy is  65.86%\n",
      "Epoch 22, CIFAR-10 Batch 4:  Loss is  0.642148\n",
      "Validation Accuracy is  66.96%\n",
      "Epoch 22, CIFAR-10 Batch 5:  Loss is  0.806869\n",
      "Validation Accuracy is  66.10%\n",
      "Epoch 23, CIFAR-10 Batch 1:  Loss is  0.817093\n",
      "Validation Accuracy is  66.72%\n",
      "Epoch 23, CIFAR-10 Batch 2:  Loss is  0.800018\n",
      "Validation Accuracy is  65.58%\n",
      "Epoch 23, CIFAR-10 Batch 3:  Loss is  0.693997\n",
      "Validation Accuracy is  66.42%\n",
      "Epoch 23, CIFAR-10 Batch 4:  Loss is  0.627516\n",
      "Validation Accuracy is  67.26%\n",
      "Epoch 23, CIFAR-10 Batch 5:  Loss is  0.765817\n",
      "Validation Accuracy is  66.24%\n",
      "Epoch 24, CIFAR-10 Batch 1:  Loss is  0.784465\n",
      "Validation Accuracy is  66.52%\n",
      "Epoch 24, CIFAR-10 Batch 2:  Loss is  0.774774\n",
      "Validation Accuracy is  66.28%\n",
      "Epoch 24, CIFAR-10 Batch 3:  Loss is  0.659287\n",
      "Validation Accuracy is  67.06%\n",
      "Epoch 24, CIFAR-10 Batch 4:  Loss is  0.598629\n",
      "Validation Accuracy is  67.58%\n",
      "Epoch 24, CIFAR-10 Batch 5:  Loss is  0.733063\n",
      "Validation Accuracy is  66.72%\n",
      "Epoch 25, CIFAR-10 Batch 1:  Loss is  0.774054\n",
      "Validation Accuracy is  66.20%\n",
      "Epoch 25, CIFAR-10 Batch 2:  Loss is  0.745816\n",
      "Validation Accuracy is  66.66%\n",
      "Epoch 25, CIFAR-10 Batch 3:  Loss is  0.646805\n",
      "Validation Accuracy is  67.42%\n",
      "Epoch 25, CIFAR-10 Batch 4:  Loss is  0.588205\n",
      "Validation Accuracy is  67.98%\n",
      "Epoch 25, CIFAR-10 Batch 5:  Loss is  0.731712\n",
      "Validation Accuracy is  67.38%\n",
      "Epoch 26, CIFAR-10 Batch 1:  Loss is  0.744379\n",
      "Validation Accuracy is  67.34%\n",
      "Epoch 26, CIFAR-10 Batch 2:  Loss is  0.722660\n",
      "Validation Accuracy is  66.62%\n",
      "Epoch 26, CIFAR-10 Batch 3:  Loss is  0.643598\n",
      "Validation Accuracy is  67.46%\n",
      "Epoch 26, CIFAR-10 Batch 4:  Loss is  0.572628\n",
      "Validation Accuracy is  67.22%\n",
      "Epoch 26, CIFAR-10 Batch 5:  Loss is  0.694062\n",
      "Validation Accuracy is  67.58%\n",
      "Epoch 27, CIFAR-10 Batch 1:  Loss is  0.711931\n",
      "Validation Accuracy is  67.62%\n",
      "Epoch 27, CIFAR-10 Batch 2:  Loss is  0.694838\n",
      "Validation Accuracy is  68.18%\n",
      "Epoch 27, CIFAR-10 Batch 3:  Loss is  0.634417\n",
      "Validation Accuracy is  67.32%\n",
      "Epoch 27, CIFAR-10 Batch 4:  Loss is  0.565992\n",
      "Validation Accuracy is  67.72%\n",
      "Epoch 27, CIFAR-10 Batch 5:  Loss is  0.649840\n",
      "Validation Accuracy is  68.72%\n",
      "Epoch 28, CIFAR-10 Batch 1:  Loss is  0.675744\n",
      "Validation Accuracy is  68.22%\n",
      "Epoch 28, CIFAR-10 Batch 2:  Loss is  0.661023\n",
      "Validation Accuracy is  69.30%\n",
      "Epoch 28, CIFAR-10 Batch 3:  Loss is  0.612240\n",
      "Validation Accuracy is  68.08%\n",
      "Epoch 28, CIFAR-10 Batch 4:  Loss is  0.559085\n",
      "Validation Accuracy is  67.30%\n",
      "Epoch 28, CIFAR-10 Batch 5:  Loss is  0.646271\n",
      "Validation Accuracy is  68.24%\n",
      "Epoch 29, CIFAR-10 Batch 1:  Loss is  0.641934\n",
      "Validation Accuracy is  69.12%\n",
      "Epoch 29, CIFAR-10 Batch 2:  Loss is  0.646193\n",
      "Validation Accuracy is  69.76%\n",
      "Epoch 29, CIFAR-10 Batch 3:  Loss is  0.577132\n",
      "Validation Accuracy is  68.86%\n",
      "Epoch 29, CIFAR-10 Batch 4:  Loss is  0.541028\n",
      "Validation Accuracy is  67.90%\n",
      "Epoch 29, CIFAR-10 Batch 5:  Loss is  0.624730\n",
      "Validation Accuracy is  68.82%\n",
      "Epoch 30, CIFAR-10 Batch 1:  Loss is  0.635414\n",
      "Validation Accuracy is  68.86%\n",
      "Epoch 30, CIFAR-10 Batch 2:  Loss is  0.628399\n",
      "Validation Accuracy is  69.66%\n",
      "Epoch 30, CIFAR-10 Batch 3:  Loss is  0.572996\n",
      "Validation Accuracy is  68.58%\n",
      "Epoch 30, CIFAR-10 Batch 4:  Loss is  0.497498\n",
      "Validation Accuracy is  68.44%\n",
      "Epoch 30, CIFAR-10 Batch 5:  Loss is  0.605253\n",
      "Validation Accuracy is  69.22%\n"
     ]
    }
   ],
   "source": [
    "\"\"\"\n",
    "DON'T MODIFY ANYTHING IN THIS CELL\n",
    "\"\"\"\n",
    "save_model_path = './image_classification'\n",
    "\n",
    "print('Training...')\n",
    "with tf.Session() as sess:\n",
    "    # Initializing the variables\n",
    "    sess.run(tf.global_variables_initializer())\n",
    "    \n",
    "    # Training cycle\n",
    "    for epoch in range(epochs):\n",
    "        # Loop over all batches\n",
    "        n_batches = 5\n",
    "        for batch_i in range(1, n_batches + 1):\n",
    "            for batch_features, batch_labels in helper.load_preprocess_training_batch(batch_i, batch_size):\n",
    "                train_neural_network(sess, optimizer, keep_probability, batch_features, batch_labels)\n",
    "            print('Epoch {:>2}, CIFAR-10 Batch {}:  '.format(epoch + 1, batch_i), end='')\n",
    "            print_stats(sess, batch_features, batch_labels, cost, accuracy)\n",
    "            \n",
    "    # Save Model\n",
    "    saver = tf.train.Saver()\n",
    "    save_path = saver.save(sess, save_model_path)"
   ]
  },
  {
   "cell_type": "markdown",
   "metadata": {
    "deletable": true,
    "editable": true
   },
   "source": [
    "# Checkpoint\n",
    "The model has been saved to disk.\n",
    "## Test Model\n",
    "Test your model against the test dataset.  This will be your final accuracy. You should have an accuracy greater than 50%. If you don't, keep tweaking the model architecture and parameters."
   ]
  },
  {
   "cell_type": "code",
   "execution_count": 84,
   "metadata": {
    "collapsed": false,
    "deletable": true,
    "editable": true
   },
   "outputs": [
    {
     "name": "stdout",
     "output_type": "stream",
     "text": [
      "Testing Accuracy: 0.6831227004528045\n",
      "\n"
     ]
    },
    {
     "data": {
      "image/png": "[encoded data removed]",
      "text/plain": [
       "<matplotlib.figure.Figure at 0x7f9cceface80>"
      ]
     },
     "metadata": {
      "image/png": {
       "height": 319,
       "width": 355
      }
     },
     "output_type": "display_data"
    }
   ],
   "source": [
    "\"\"\"\n",
    "DON'T MODIFY ANYTHING IN THIS CELL\n",
    "\"\"\"\n",
    "%matplotlib inline\n",
    "%config InlineBackend.figure_format = 'retina'\n",
    "\n",
    "import tensorflow as tf\n",
    "import pickle\n",
    "import helper\n",
    "import random\n",
    "\n",
    "# Set batch size if not already set\n",
    "try:\n",
    "    if batch_size:\n",
    "        pass\n",
    "except NameError:\n",
    "    batch_size = 64\n",
    "\n",
    "save_model_path = './image_classification'\n",
    "n_samples = 4\n",
    "top_n_predictions = 3\n",
    "\n",
    "def test_model():\n",
    "    \"\"\"\n",
    "    Test the saved model against the test dataset\n",
    "    \"\"\"\n",
    "\n",
    "    test_features, test_labels = pickle.load(open('preprocess_test.p', mode='rb'))\n",
    "    loaded_graph = tf.Graph()\n",
    "\n",
    "    with tf.Session(graph=loaded_graph) as sess:\n",
    "        # Load model\n",
    "        loader = tf.train.import_meta_graph(save_model_path + '.meta')\n",
    "        loader.restore(sess, save_model_path)\n",
    "\n",
    "        # Get Tensors from loaded model\n",
    "        loaded_x = loaded_graph.get_tensor_by_name('x:0')\n",
    "        loaded_y = loaded_graph.get_tensor_by_name('y:0')\n",
    "        loaded_keep_prob = loaded_graph.get_tensor_by_name('keep_prob:0')\n",
    "        loaded_logits = loaded_graph.get_tensor_by_name('logits:0')\n",
    "        loaded_acc = loaded_graph.get_tensor_by_name('accuracy:0')\n",
    "        \n",
    "        # Get accuracy in batches for memory limitations\n",
    "        test_batch_acc_total = 0\n",
    "        test_batch_count = 0\n",
    "        \n",
    "        for test_feature_batch, test_label_batch in helper.batch_features_labels(test_features, test_labels, batch_size):\n",
    "            test_batch_acc_total += sess.run(\n",
    "                loaded_acc,\n",
    "                feed_dict={loaded_x: test_feature_batch, loaded_y: test_label_batch, loaded_keep_prob: 1.0})\n",
    "            test_batch_count += 1\n",
    "\n",
    "        print('Testing Accuracy: {}\\n'.format(test_batch_acc_total/test_batch_count))\n",
    "\n",
    "        # Print Random Samples\n",
    "        random_test_features, random_test_labels = tuple(zip(*random.sample(list(zip(test_features, test_labels)), n_samples)))\n",
    "        random_test_predictions = sess.run(\n",
    "            tf.nn.top_k(tf.nn.softmax(loaded_logits), top_n_predictions),\n",
    "            feed_dict={loaded_x: random_test_features, loaded_y: random_test_labels, loaded_keep_prob: 1.0})\n",
    "        helper.display_image_predictions(random_test_features, random_test_labels, random_test_predictions)\n",
    "\n",
    "\n",
    "test_model()"
   ]
  },
  {
   "cell_type": "markdown",
   "metadata": {
    "deletable": true,
    "editable": true
   },
   "source": [
    "## Why 50-80% Accuracy?\n",
    "You might be wondering why you can't get an accuracy any higher. First things first, 50% isn't bad for a simple CNN.  Pure guessing would get you 10% accuracy. However, you might notice people are getting scores [well above 80%](http://rodrigob.github.io/are_we_there_yet/build/classification_datasets_results.html#43494641522d3130).  That's because we haven't taught you all there is to know about neural networks. We still need to cover a few more techniques.\n",
    "## Submitting This Project\n",
    "When submitting this project, make sure to run all the cells before saving the notebook.  Save the notebook file as \"dlnd_image_classification.ipynb\" and save it as a HTML file under \"File\" -> \"Download as\".  Include the \"helper.py\" and \"problem_unittests.py\" files in your submission."
   ]
  }
 ],
 "metadata": {
  "kernelspec": {
   "display_name": "Python 3",
   "language": "python",
   "name": "python3"
  },
  "language_info": {
   "codemirror_mode": {
    "name": "ipython",
    "version": 3
   },
   "file_extension": ".py",
   "mimetype": "text/x-python",
   "name": "python",
   "nbconvert_exporter": "python",
   "pygments_lexer": "ipython3",
   "version": "3.5.2"
  },
  "widgets": {
   "state": {},
   "version": "1.1.2"
  }
 },
 "nbformat": 4,
 "nbformat_minor": 1
}
